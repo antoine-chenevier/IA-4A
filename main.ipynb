{
 "cells": [
  {
   "cell_type": "code",
   "execution_count": null,
   "metadata": {},
   "outputs": [],
   "source": [
    "import pandas as pd\n",
    "import numpy as np\n",
    "import sklearn as sk\n",
    "import re\n",
    "import matplotlib.pyplot as plt\n",
    "from matplotlib import *\n",
    "from sklearn.model_selection import GridSearchCV\n",
    "from sklearn.neighbors import KNeighborsClassifier\n",
    "from sklearn.model_selection import train_test_split, cross_val_score,learning_curve, GroupKFold\n",
    "from sklearn.metrics import confusion_matrix\n",
    "\n"
   ]
  },
  {
   "cell_type": "code",
   "execution_count": null,
   "metadata": {},
   "outputs": [],
   "source": [
    "df =  pd.read_csv('../2017_07_07/TADPOLE_D1_D2.csv',low_memory=False)"
   ]
  },
  {
   "cell_type": "code",
   "execution_count": null,
   "metadata": {},
   "outputs": [],
   "source": [
    "df.head(0)\n"
   ]
  },
  {
   "cell_type": "code",
   "execution_count": null,
   "metadata": {},
   "outputs": [],
   "source": [
    "print(df['DX'].head())\n",
    "print(df['DX_bl'].head())\n",
    "print(df['EXAMDATE_BAIPETNMRC_09_12_16'].unique())"
   ]
  },
  {
   "cell_type": "code",
   "execution_count": null,
   "metadata": {},
   "outputs": [],
   "source": [
    "df_sample = df.sample(frac=0.1, random_state=1)\n",
    "pd.set_option('display.max_columns', None)\n",
    "name_columns=df.head(0)\n",
    "#EXAMDATE\tDX_bl\tDXCHANGE\tAGE\tPTGENDER\tPTEDUCAT\tPTETHCAT\tPTRACCAT\tPTMARRY\t\n",
    "print(df['PTETHCAT'].head(10))"
   ]
  },
  {
   "cell_type": "code",
   "execution_count": null,
   "metadata": {},
   "outputs": [],
   "source": [
    "print(df['DXCHANGE'].head(1))\n",
    "'1=Stable:NL to NL, 2=Stable:MCI to MCI, 3=Stable:AD to AD, ' \n",
    "'4=Conv:NL to MCI, 5=Conv:MCI to AD, 6=Conv:NL to AD, ' \n",
    "'7=Rev:MCI to NL, 8=Rev:AD to MCI, 9=Rev:AD to NL, -1=Not available'"
   ]
  },
  {
   "cell_type": "code",
   "execution_count": null,
   "metadata": {},
   "outputs": [],
   "source": [
    "\n",
    "#data = df[['PTGENDER','AGE','PTEDUCAT','APOE4','DXCHANGE','PTETHCAT','PTMARRY','PTEDUCAT','PTRACCAT','EXAMDATE']].copy()\n",
    "data = df\n",
    "print(data.shape)\n",
    "print(data['DX_bl'].unique())\n",
    "\n",
    "#data.dropna(axis=0,inplace= True)\n",
    "data['PTGENDER']= data['PTGENDER'].replace(['Male','Female'],[1,0])\n",
    "data['APOE4']= data['APOE4'].astype(float)\n",
    "data['AGE']= data['AGE'].astype(float)\n",
    "data['PTETHCAT']= data['PTETHCAT'].replace(['Hisp/Latino','Not Hisp/Latino','Unknown'],[2,1,0]).astype(int)\n",
    "data['PTMARRY']= data['PTMARRY'].replace(['Married','Widowed','Divorced','Never married','Unknown'],[0,1,2,3,4]).astype(int)\n",
    "data['PTRACCAT'] = data['PTRACCAT'].replace(['White','More than one','Black','Asian', 'Am Indian/Alaskan','Hawaiian/Other PI', 'Unknown'],[0,1,2,3,4,5,6]).astype(int)\n",
    "data['DX_bl'] = data['DX_bl'].replace(['CN' ,'AD' ,'LMCI' ,'EMCI' ,'SMC'],['0','1','2','3','4']).astype(int)\n",
    "df['DX'] = df['DX'].replace(['NL' ,'Dementia', 'MCI', 'NL to MCI', 'MCI to Dementia', 'MCI to NL','Dementia to MCI','nan' ,'NL to Dementia'],['1','3','4','5','6','7','8','9','10'])\n",
    "df['DX']=df['DX'].fillna(0)\n",
    "print(data['DX_bl'].head())\n",
    "print(data['DX'].unique())\n",
    "\n",
    "# drop the columns in data they ate objet type\n",
    "data = data.select_dtypes(exclude=['object'])\n",
    "print(data.shape)\n"
   ]
  },
  {
   "cell_type": "code",
   "execution_count": null,
   "metadata": {},
   "outputs": [],
   "source": [
    "data.info()"
   ]
  },
  {
   "cell_type": "code",
   "execution_count": null,
   "metadata": {},
   "outputs": [],
   "source": [
    "# Algorithme des k plus proches voisins\n",
    "model = KNeighborsClassifier()\n",
    "y = data['DXCHANGE']\n",
    "X = data.drop('DXCHANGE', axis=1)\n",
    "y = np.nan_to_num(y)\n",
    "X= np.nan_to_num(X)\n"
   ]
  },
  {
   "cell_type": "code",
   "execution_count": null,
   "metadata": {},
   "outputs": [],
   "source": [
    "\n",
    "X_train, X_test, y_train, y_test = train_test_split(X, y, test_size=0.2, random_state=5)\n",
    "\n",
    "model.fit(X_train,y_train)\n",
    "print(model.score(X_train,y_train))\n",
    "print(model.score(X_test,y_test))"
   ]
  },
  {
   "cell_type": "code",
   "execution_count": null,
   "metadata": {},
   "outputs": [],
   "source": [
    "param_grid = {'n_neighbors': np.arange(1, 25),'metric': ['euclidean', 'manhattan']}\n",
    "grid = GridSearchCV(KNeighborsClassifier(), param_grid, cv=5)\n",
    "grid.fit(X_train, y_train)"
   ]
  },
  {
   "cell_type": "code",
   "execution_count": null,
   "metadata": {},
   "outputs": [],
   "source": [
    "print(grid.best_params_)\n",
    "print(grid.best_score_)\n",
    "print(grid.best_estimator_)\n",
    "model = grid.best_estimator_\n",
    "print(model.score(X_train,y_train))\n",
    "print(model.score(X_test,y_test))"
   ]
  },
  {
   "cell_type": "code",
   "execution_count": null,
   "metadata": {},
   "outputs": [],
   "source": [
    "confusion_matrix(y_test, model.predict(X_test))\n"
   ]
  },
  {
   "cell_type": "code",
   "execution_count": null,
   "metadata": {},
   "outputs": [],
   "source": [
    "N, train_score,val_score = learning_curve(model,X_train,y_train,train_sizes = np.linspace(0.2,1.0,5),cv=5)"
   ]
  },
  {
   "cell_type": "code",
   "execution_count": null,
   "metadata": {},
   "outputs": [],
   "source": [
    "print(N)\n",
    "plt.plot(N,train_score.mean(axis=1), label='train')\n",
    "plt.plot(N,val_score.mean(axis=1), label='validation')\n",
    "plt.xlabel('train_sizes')\n",
    "plt.legend()\n"
   ]
  },
  {
   "cell_type": "code",
   "execution_count": null,
   "metadata": {},
   "outputs": [],
   "source": [
    "cv =  GroupKFold(5).get_n_splits(X,y,groups=X[:,5])\n",
    "cross_val_score(model,X,y,cv=cv)"
   ]
  },
  {
   "cell_type": "code",
   "execution_count": null,
   "metadata": {},
   "outputs": [],
   "source": [
    "def sick(model,PTGENDER=1,AGE=10,PTEDUCAT=4,APOE4=0):\n",
    "    x= np.array([PTGENDER,AGE,PTEDUCAT,APOE4]).reshape(1,4)\n",
    "    print(model.predict(x))\n",
    "    print(model.predict_proba(x))"
   ]
  }
 ],
 "metadata": {
  "kernelspec": {
   "display_name": "Python 3.9.13 64-bit (microsoft store)",
   "language": "python",
   "name": "python3"
  },
  "language_info": {
   "codemirror_mode": {
    "name": "ipython",
    "version": 3
   },
   "file_extension": ".py",
   "mimetype": "text/x-python",
   "name": "python",
   "nbconvert_exporter": "python",
   "pygments_lexer": "ipython3",
   "version": "3.9.13"
  },
  "orig_nbformat": 4,
  "vscode": {
   "interpreter": {
    "hash": "b14af74a610c70f5bad55d595eaf0d2630959847dae1a675950e7cf4da6ccbd5"
   }
  }
 },
 "nbformat": 4,
 "nbformat_minor": 2
}
